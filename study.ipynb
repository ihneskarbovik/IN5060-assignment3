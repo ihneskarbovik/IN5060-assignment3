{
 "cells": [
  {
   "cell_type": "markdown",
   "metadata": {},
   "source": [
    "# This is going to be awesome"
   ]
  },
  {
   "cell_type": "markdown",
   "metadata": {},
   "source": [
    "### Imports"
   ]
  },
  {
   "cell_type": "code",
   "execution_count": 82,
   "metadata": {},
   "outputs": [],
   "source": [
    "import pandas as pd\n",
    "import numpy as np"
   ]
  },
  {
   "cell_type": "code",
   "execution_count": 83,
   "metadata": {},
   "outputs": [
    {
     "data": {
      "text/plain": [
       "Index(['\"Timestamp', '\"\"Participant ID (top-right corner of the screen)\"\"',\n",
       "       '\"\"How old are you?\"\"', '\"\"Gender?\"\"',\n",
       "       '\"\"What describes you the best?\"\"',\n",
       "       '\"\"How comfortable are you in expressing emotions?\"\"',\n",
       "       '\"\"Have you ever played with the drummer bot dB before?\"\"',\n",
       "       '\"\"How much prior experience do you have with interactive musical interfaces (e.g. sensor systems. digital control devices)?\"\"',\n",
       "       '\"\"How often do you use AI tools for creativity (e.g. writing. coding. music. fine arts. food recipes. etc.)?\"\"',\n",
       "       '\"\"Please indicate if you have any of the following health problems.\"\"\";'],\n",
       "      dtype='object')"
      ]
     },
     "execution_count": 83,
     "metadata": {},
     "output_type": "execute_result"
    }
   ],
   "source": [
    "pre = pd.read_csv('data/pre.csv', quotechar='\\t')\n",
    "during = pd.read_csv('data/during.csv', quotechar='\\t')\n",
    "post = pd.read_csv('data/post.csv', quotechar='\\t')\n",
    "pre.columns"
   ]
  },
  {
   "cell_type": "markdown",
   "metadata": {},
   "source": [
    "### Filter data"
   ]
  },
  {
   "cell_type": "code",
   "execution_count": 96,
   "metadata": {},
   "outputs": [
    {
     "name": "stdout",
     "output_type": "stream",
     "text": [
      "  Participant_ID             Gender                Personal description  \\\n",
      "0           test  Prefer not to say  Student/semi-professional musician   \n",
      "1             11  Prefer not to say  Student/semi-professional musician   \n",
      "2      andsti-01               Male                 Avid music listener   \n",
      "3      andsti-01               Male                 Avid music listener   \n",
      "4         grup16             Female                 Avid music listener   \n",
      "\n",
      "  Comfortable with expressing emotions  \n",
      "0                                    3  \n",
      "1                                    0  \n",
      "2                                    2  \n",
      "3                                    2  \n",
      "4                                    4   (143, 4)\n"
     ]
    }
   ],
   "source": [
    "pre_columns = pre.columns\n",
    "pre_data = pre[[pre_columns[1], pre_columns[3], pre_columns[4], pre_columns[5]]]\n",
    "pre_data.columns = ['Participant_ID', 'Gender', 'Personal description', 'Comfortable with expressing emotions']\n",
    "pre_data = pre_data.map(lambda x: x.strip('\"') if isinstance(x, str) else x)\n",
    "print(pre_data.head(), pre_data.shape)"
   ]
  },
  {
   "cell_type": "code",
   "execution_count": 97,
   "metadata": {},
   "outputs": [
    {
     "name": "stdout",
     "output_type": "stream",
     "text": [
      "  Session_ID Participant_ID Excitement\n",
      "0     ILLIAC      andsti-01          3\n",
      "1       CYSP      andsti-01          1\n",
      "2    VOYAGER      andsti-01          1\n",
      "3      ALICE      andsti-01          1\n",
      "4       CYSP         grup16          2 (434, 3)\n"
     ]
    }
   ],
   "source": [
    "during_columns = during.columns\n",
    "during_data = during[[during_columns[1], during_columns[2], during_columns[5]]]\n",
    "during_data.columns = ['Session_ID', 'Participant_ID', 'Excitement']\n",
    "during_data = during_data.map(lambda x: x.strip('\"') if isinstance(x, str) else x)\n",
    "print(during_data.head(), during_data.shape)"
   ]
  },
  {
   "cell_type": "code",
   "execution_count": 98,
   "metadata": {},
   "outputs": [
    {
     "name": "stdout",
     "output_type": "stream",
     "text": [
      "  Participant_ID Control Creative expression\n",
      "0      andsti-01       1                   2\n",
      "1      andsti-02       1                   1\n",
      "2      andsti-03       1                   2\n",
      "3      andsti-04       1                   2\n",
      "4      andsti-05       1                   3 (113, 3)\n"
     ]
    }
   ],
   "source": [
    "post_columns = post.columns\n",
    "post_data = post[[post_columns[1], post_columns[3], post_columns[7]]]\n",
    "post_data.columns = ['Participant_ID', 'Control', 'Creative expression']\n",
    "post_data = post_data.map(lambda x: x.strip('\"') if isinstance(x, str) else x)\n",
    "print(post_data.head(), post_data.shape)"
   ]
  },
  {
   "cell_type": "code",
   "execution_count": null,
   "metadata": {},
   "outputs": [],
   "source": []
  }
 ],
 "metadata": {
  "kernelspec": {
   "display_name": "Python 3",
   "language": "python",
   "name": "python3"
  },
  "language_info": {
   "codemirror_mode": {
    "name": "ipython",
    "version": 3
   },
   "file_extension": ".py",
   "mimetype": "text/x-python",
   "name": "python",
   "nbconvert_exporter": "python",
   "pygments_lexer": "ipython3",
   "version": "3.9.6"
  }
 },
 "nbformat": 4,
 "nbformat_minor": 2
}
