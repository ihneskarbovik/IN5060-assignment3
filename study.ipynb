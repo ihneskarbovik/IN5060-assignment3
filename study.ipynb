{
 "cells": [
  {
   "cell_type": "markdown",
   "metadata": {},
   "source": [
    "# This is going to be awesome"
   ]
  },
  {
   "cell_type": "markdown",
   "metadata": {},
   "source": [
    "### Imports"
   ]
  },
  {
   "cell_type": "code",
   "execution_count": 26,
   "metadata": {},
   "outputs": [],
   "source": [
    "import pandas as pd\n",
    "import numpy as np"
   ]
  },
  {
   "cell_type": "code",
   "execution_count": 27,
   "metadata": {},
   "outputs": [
    {
     "data": {
      "text/plain": [
       "Index(['\"Timestamp', '\"\"Participant ID (top-right corner of the screen)\"\"',\n",
       "       '\"\"How old are you?\"\"', '\"\"Gender?\"\"',\n",
       "       '\"\"What describes you the best?\"\"',\n",
       "       '\"\"How comfortable are you in expressing emotions?\"\"',\n",
       "       '\"\"Have you ever played with the drummer bot dB before?\"\"',\n",
       "       '\"\"How much prior experience do you have with interactive musical interfaces (e.g. sensor systems. digital control devices)?\"\"',\n",
       "       '\"\"How often do you use AI tools for creativity (e.g. writing. coding. music. fine arts. food recipes. etc.)?\"\"',\n",
       "       '\"\"Please indicate if you have any of the following health problems.\"\"\";'],\n",
       "      dtype='object')"
      ]
     },
     "execution_count": 27,
     "metadata": {},
     "output_type": "execute_result"
    }
   ],
   "source": [
    "pre = pd.read_csv('data/pre.csv', quotechar='\\t')\n",
    "during = pd.read_csv('data/during.csv', quotechar='\\t')\n",
    "post = pd.read_csv('data/post.csv', quotechar='\\t')\n",
    "pre.columns"
   ]
  },
  {
   "cell_type": "markdown",
   "metadata": {},
   "source": [
    "### Filter data"
   ]
  },
  {
   "cell_type": "code",
   "execution_count": 28,
   "metadata": {},
   "outputs": [
    {
     "name": "stdout",
     "output_type": "stream",
     "text": [
      "                        \"Timestamp  \\\n",
      "0     \"2024/11/04 5:15:10 PM GMT+1   \n",
      "50    \"2024/11/07 2:09:46 PM GMT+1   \n",
      "63   \"2024/11/08 12:47:28 PM GMT+1   \n",
      "128  \"2024/11/11 11:03:28 AM GMT+1   \n",
      "131  \"2024/11/11 11:29:10 AM GMT+1   \n",
      "135  \"2024/11/11 11:55:54 AM GMT+1   \n",
      "137  \"2024/11/11 12:11:12 PM GMT+1   \n",
      "140  \"2024/11/11 12:33:52 PM GMT+1   \n",
      "\n",
      "    \"\"Participant ID (top-right corner of the screen)\"\" \"\"How old are you?\"\"  \\\n",
      "0                                             \"\"test\"\"                \"\"66\"\"   \n",
      "50                                      \"\"kuromitest\"\"                \"\"23\"\"   \n",
      "63                                            \"\"test\"\"                \"\"24\"\"   \n",
      "128                                   \"\"group8_test1\"\"                \"\"25\"\"   \n",
      "131                                        \"\"8_test1\"\"                \"\"25\"\"   \n",
      "135                                        \"\"8_test3\"\"                \"\"22\"\"   \n",
      "137                                     \"\"8_testing3\"\"                \"\"22\"\"   \n",
      "140                                     \"\"8_testing4\"\"                \"\"30\"\"   \n",
      "\n",
      "               \"\"Gender?\"\"          \"\"What describes you the best?\"\"  \\\n",
      "0    \"\"Prefer not to say\"\"    \"\"Student/semi-professional musician\"\"   \n",
      "50                \"\"Male\"\"    \"\"Student/semi-professional musician\"\"   \n",
      "63              \"\"Female\"\"         \"\"Averagely interested in music\"\"   \n",
      "128               \"\"Male\"\"  \"\"Not particularly interested in music\"\"   \n",
      "131               \"\"Male\"\"  \"\"Not particularly interested in music\"\"   \n",
      "135             \"\"Female\"\"                   \"\"Avid music listener\"\"   \n",
      "137             \"\"Female\"\"         \"\"Averagely interested in music\"\"   \n",
      "140             \"\"Female\"\"                 \"\"Professional musician\"\"   \n",
      "\n",
      "    \"\"How comfortable are you in expressing emotions?\"\"  \\\n",
      "0                                                \"\"3\"\"    \n",
      "50                                               \"\"2\"\"    \n",
      "63                                               \"\"4\"\"    \n",
      "128                                              \"\"3\"\"    \n",
      "131                                              \"\"3\"\"    \n",
      "135                                              \"\"3\"\"    \n",
      "137                                              \"\"2\"\"    \n",
      "140                                              \"\"4\"\"    \n",
      "\n",
      "    \"\"Have you ever played with the drummer bot dB before?\"\"  \\\n",
      "0                                              \"\"Yes\"\"         \n",
      "50                                             \"\"Yes\"\"         \n",
      "63                                             \"\"Yes\"\"         \n",
      "128                                             \"\"No\"\"         \n",
      "131                                             \"\"No\"\"         \n",
      "135                                             \"\"No\"\"         \n",
      "137                                             \"\"No\"\"         \n",
      "140                                             \"\"No\"\"         \n",
      "\n",
      "    \"\"How much prior experience do you have with interactive musical interfaces (e.g. sensor systems. digital control devices)?\"\"  \\\n",
      "0                                                \"\"4\"\"                                                                              \n",
      "50                                               \"\"3\"\"                                                                              \n",
      "63                                               \"\"0\"\"                                                                              \n",
      "128                                              \"\"0\"\"                                                                              \n",
      "131                                              \"\"0\"\"                                                                              \n",
      "135                                              \"\"1\"\"                                                                              \n",
      "137                                              \"\"1\"\"                                                                              \n",
      "140                                              \"\"0\"\"                                                                              \n",
      "\n",
      "    \"\"How often do you use AI tools for creativity (e.g. writing. coding. music. fine arts. food recipes. etc.)?\"\"  \\\n",
      "0                                                \"\"4\"\"                                                               \n",
      "50                                               \"\"3\"\"                                                               \n",
      "63                                               \"\"4\"\"                                                               \n",
      "128                                              \"\"3\"\"                                                               \n",
      "131                                              \"\"4\"\"                                                               \n",
      "135                                              \"\"4\"\"                                                               \n",
      "137                                              \"\"3\"\"                                                               \n",
      "140                                              \"\"3\"\"                                                               \n",
      "\n",
      "    \"\"Please indicate if you have any of the following health problems.\"\"\";  \n",
      "0                                           \"\"anan\"\"\";                       \n",
      "50                                              \"\"\"\"\";                       \n",
      "63                                              \"\"\"\"\";                       \n",
      "128                                             \"\"\"\"\";                       \n",
      "131                                             \"\"\"\"\";                       \n",
      "135                                             \"\"\"\"\";                       \n",
      "137                                             \"\"\"\"\";                       \n",
      "140                                             \"\"\"\"\";                       \n",
      "                      \"Timestamp  \\\n",
      "1  \"2024/11/05 12:45:26 PM GMT+1   \n",
      "\n",
      "  \"\"Participant ID (top-right corner of the screen)\"\" \"\"How old are you?\"\"  \\\n",
      "1                                             \"\"11\"\"                \"\"11\"\"   \n",
      "\n",
      "             \"\"Gender?\"\"        \"\"What describes you the best?\"\"  \\\n",
      "1  \"\"Prefer not to say\"\"  \"\"Student/semi-professional musician\"\"   \n",
      "\n",
      "  \"\"How comfortable are you in expressing emotions?\"\"  \\\n",
      "1                                              \"\"0\"\"    \n",
      "\n",
      "  \"\"Have you ever played with the drummer bot dB before?\"\"  \\\n",
      "1                                             \"\"No\"\"         \n",
      "\n",
      "  \"\"How much prior experience do you have with interactive musical interfaces (e.g. sensor systems. digital control devices)?\"\"  \\\n",
      "1                                              \"\"0\"\"                                                                              \n",
      "\n",
      "  \"\"How often do you use AI tools for creativity (e.g. writing. coding. music. fine arts. food recipes. etc.)?\"\"  \\\n",
      "1                                              \"\"0\"\"                                                               \n",
      "\n",
      "  \"\"Please indicate if you have any of the following health problems.\"\"\";  \n",
      "1                                         \"\"Test\"\"\";                       \n"
     ]
    }
   ],
   "source": [
    "# inspect for test data\n",
    "mask = np.column_stack([pre[col].str.contains('test', na=False) for col in pre])\n",
    "print(pre[mask])\n",
    "\n",
    "mask = np.column_stack([pre[col].str.contains('Test', na=False) for col in pre])\n",
    "print(pre[mask])"
   ]
  },
  {
   "cell_type": "code",
   "execution_count": 29,
   "metadata": {},
   "outputs": [],
   "source": [
    "## drop test data\n",
    "pre = pre.drop(index=[0, 1, 63])"
   ]
  },
  {
   "cell_type": "code",
   "execution_count": 30,
   "metadata": {},
   "outputs": [],
   "source": [
    "## rename columns and remove quotes\n",
    "\n",
    "pre_columns = pre.columns\n",
    "pre_data = pre[[pre_columns[1], pre_columns[3], pre_columns[4], pre_columns[5]]]\n",
    "pre_data.columns = ['Participant_ID', 'Gender', 'Personal description', 'Comfortable with expressing emotions']\n",
    "pre_data = pre_data.map(lambda x: x.strip('\"') if isinstance(x, str) else x)\n",
    "\n",
    "during_columns = during.columns\n",
    "during_data = during[[during_columns[1], during_columns[2], during_columns[5]]]\n",
    "during_data.columns = ['Session_ID', 'Participant_ID', 'Excitement']\n",
    "during_data = during_data.map(lambda x: x.strip('\"') if isinstance(x, str) else x)\n",
    "\n",
    "post_columns = post.columns\n",
    "post_data = post[[post_columns[1], post_columns[3], post_columns[7]]]\n",
    "post_data.columns = ['Participant_ID', 'Control', 'Creative expression']\n",
    "post_data = post_data.map(lambda x: x.strip('\"') if isinstance(x, str) else x)"
   ]
  },
  {
   "cell_type": "code",
   "execution_count": 31,
   "metadata": {},
   "outputs": [],
   "source": [
    "## Remove participants according to the instructions\n",
    "pre_data = pre_data[~pre_data['Participant_ID'].isin(['grup16', 'group15a', 'group15b', 'group15c'])]\n",
    "during_data = during_data[~during_data['Participant_ID'].isin(['grup16', 'group15a', 'group15b', 'group15c'])]\n",
    "post_data = post_data[~post_data['Participant_ID'].isin(['grup16', 'group15a', 'group15b', 'group15c'])]"
   ]
  },
  {
   "cell_type": "code",
   "execution_count": 32,
   "metadata": {},
   "outputs": [
    {
     "name": "stdout",
     "output_type": "stream",
     "text": [
      "Participant_ID                          121\n",
      "Gender                                    2\n",
      "Personal description                      5\n",
      "Comfortable with expressing emotions      5\n",
      "dtype: int64\n",
      "  Session_ID Participant_ID Excitement\n",
      "0     ILLIAC      andsti-01          3\n",
      "1       CYSP      andsti-01          1\n",
      "2    VOYAGER      andsti-01          1\n",
      "3      ALICE      andsti-01          1\n",
      "5      ALICE      andsti-02          0 (427, 3)\n",
      "Session_ID         27\n",
      "Participant_ID    118\n",
      "Excitement          5\n",
      "dtype: int64\n",
      "['ILLIAC' 'CYSP' 'VOYAGER' 'ALICE' 'Alice' 'illiac' 'voyager' 'cysp'\n",
      " 'alice' '1' '3' '2' '4' 'ALLICE' 'iliac' 'ILLIAD' 'Crysp' 'Voyager'\n",
      " 'Cysp' 'group18_j1_1' 'group18_j1_2' 'group18_j1_3' 'group18_j1_4'\n",
      " 'Illiac' ' ALICE' 'x' ' VOYAGER']\n"
     ]
    }
   ],
   "source": [
    "# print(pre_data.head(), pre_data.shape)\n",
    "print(pre_data.nunique())\n",
    "\n",
    "print(during_data.head(), during_data.shape)\n",
    "print(during_data.nunique())\n",
    "print(during_data['Session_ID'].unique())"
   ]
  },
  {
   "cell_type": "code",
   "execution_count": 33,
   "metadata": {},
   "outputs": [
    {
     "name": "stdout",
     "output_type": "stream",
     "text": [
      "['ILLIAC' 'CYSP' 'VOYAGER' 'ALICE'] Session_ID          4\n",
      "Participant_ID    109\n",
      "Excitement          5\n",
      "dtype: int64\n"
     ]
    }
   ],
   "source": [
    "## Fix session naming\n",
    "during_data['Session_ID'] = during_data['Session_ID'].str.upper()\n",
    "during_data['Session_ID'] = during_data['Session_ID'].replace('ALLICE', 'ALICE')\n",
    "during_data['Session_ID'] = during_data['Session_ID'].replace(' ALICE', 'ALICE')\n",
    "during_data['Session_ID'] = during_data['Session_ID'].replace('ILIAC', 'ILLIAC')\n",
    "during_data['Session_ID'] = during_data['Session_ID'].replace('ILLIAD', 'ILLIAC')\n",
    "during_data['Session_ID'] = during_data['Session_ID'].replace('CRYSP', 'CYSP')\n",
    "during_data['Session_ID'] = during_data['Session_ID'].replace(' VOYAGER', 'VOYAGER')\n",
    "\n",
    "## Delete all rows with an incorrect session name\n",
    "during_data = during_data[during_data['Session_ID'].isin(['ALICE', 'ILLIAC', 'CYSP', 'VOYAGER'])]\n",
    "print(during_data['Session_ID'].unique(), during_data.nunique())"
   ]
  },
  {
   "cell_type": "code",
   "execution_count": 34,
   "metadata": {},
   "outputs": [
    {
     "name": "stdout",
     "output_type": "stream",
     "text": [
      "  Participant_ID Control Creative expression\n",
      "0      andsti-01       1                   2\n",
      "1      andsti-02       1                   1\n",
      "2      andsti-03       1                   2\n",
      "3      andsti-04       1                   2\n",
      "4      andsti-05       1                   3 (111, 3)\n",
      "Participant_ID         111\n",
      "Control                  5\n",
      "Creative expression      5\n",
      "dtype: int64\n"
     ]
    }
   ],
   "source": [
    "print(post_data.head(), post_data.shape)\n",
    "print(post_data.nunique())"
   ]
  },
  {
   "cell_type": "markdown",
   "metadata": {},
   "source": [
    "### Match data based on Participant ID"
   ]
  },
  {
   "cell_type": "code",
   "execution_count": null,
   "metadata": {},
   "outputs": [],
   "source": []
  }
 ],
 "metadata": {
  "kernelspec": {
   "display_name": "Python 3",
   "language": "python",
   "name": "python3"
  },
  "language_info": {
   "codemirror_mode": {
    "name": "ipython",
    "version": 3
   },
   "file_extension": ".py",
   "mimetype": "text/x-python",
   "name": "python",
   "nbconvert_exporter": "python",
   "pygments_lexer": "ipython3",
   "version": "3.9.6"
  }
 },
 "nbformat": 4,
 "nbformat_minor": 2
}
