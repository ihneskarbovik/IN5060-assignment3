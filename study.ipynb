{
 "cells": [
  {
   "cell_type": "markdown",
   "metadata": {},
   "source": [
    "# This is going to be awesome"
   ]
  },
  {
   "cell_type": "markdown",
   "metadata": {},
   "source": [
    "### Imports"
   ]
  },
  {
   "cell_type": "code",
   "execution_count": 82,
   "metadata": {},
   "outputs": [],
   "source": [
    "import pandas as pd\n",
    "import numpy as np"
   ]
  },
  {
   "cell_type": "code",
   "execution_count": 83,
   "metadata": {},
   "outputs": [
    {
     "data": {
      "text/plain": [
       "Index(['\"Timestamp', '\"\"Participant ID (top-right corner of the screen)\"\"',\n",
       "       '\"\"How old are you?\"\"', '\"\"Gender?\"\"',\n",
       "       '\"\"What describes you the best?\"\"',\n",
       "       '\"\"How comfortable are you in expressing emotions?\"\"',\n",
       "       '\"\"Have you ever played with the drummer bot dB before?\"\"',\n",
       "       '\"\"How much prior experience do you have with interactive musical interfaces (e.g. sensor systems. digital control devices)?\"\"',\n",
       "       '\"\"How often do you use AI tools for creativity (e.g. writing. coding. music. fine arts. food recipes. etc.)?\"\"',\n",
       "       '\"\"Please indicate if you have any of the following health problems.\"\"\";'],\n",
       "      dtype='object')"
      ]
     },
     "execution_count": 83,
     "metadata": {},
     "output_type": "execute_result"
    }
   ],
   "source": [
    "pre = pd.read_csv('data/pre.csv', quotechar='\\t')\n",
    "during = pd.read_csv('data/during.csv', quotechar='\\t')\n",
    "post = pd.read_csv('data/post.csv', quotechar='\\t')\n",
    "pre.columns"
   ]
  },
  {
   "cell_type": "markdown",
   "metadata": {},
   "source": [
    "### Filter data"
   ]
  },
  {
   "cell_type": "code",
   "execution_count": 84,
   "metadata": {},
   "outputs": [
    {
     "data": {
      "text/html": [
       "<div>\n",
       "<style scoped>\n",
       "    .dataframe tbody tr th:only-of-type {\n",
       "        vertical-align: middle;\n",
       "    }\n",
       "\n",
       "    .dataframe tbody tr th {\n",
       "        vertical-align: top;\n",
       "    }\n",
       "\n",
       "    .dataframe thead th {\n",
       "        text-align: right;\n",
       "    }\n",
       "</style>\n",
       "<table border=\"1\" class=\"dataframe\">\n",
       "  <thead>\n",
       "    <tr style=\"text-align: right;\">\n",
       "      <th></th>\n",
       "      <th>Participant_ID</th>\n",
       "      <th>Gender</th>\n",
       "      <th>Personal description</th>\n",
       "      <th>Comfortable with expressing emotions</th>\n",
       "    </tr>\n",
       "  </thead>\n",
       "  <tbody>\n",
       "    <tr>\n",
       "      <th>0</th>\n",
       "      <td>\"\"test\"\"</td>\n",
       "      <td>\"\"Prefer not to say\"\"</td>\n",
       "      <td>\"\"Student/semi-professional musician\"\"</td>\n",
       "      <td>\"\"3\"\"</td>\n",
       "    </tr>\n",
       "    <tr>\n",
       "      <th>1</th>\n",
       "      <td>\"\"11\"\"</td>\n",
       "      <td>\"\"Prefer not to say\"\"</td>\n",
       "      <td>\"\"Student/semi-professional musician\"\"</td>\n",
       "      <td>\"\"0\"\"</td>\n",
       "    </tr>\n",
       "    <tr>\n",
       "      <th>2</th>\n",
       "      <td>\"\"andsti-01\"\"</td>\n",
       "      <td>\"\"Male\"\"</td>\n",
       "      <td>\"\"Avid music listener\"\"</td>\n",
       "      <td>\"\"2\"\"</td>\n",
       "    </tr>\n",
       "    <tr>\n",
       "      <th>3</th>\n",
       "      <td>\"\"andsti-01\"\"</td>\n",
       "      <td>\"\"Male\"\"</td>\n",
       "      <td>\"\"Avid music listener\"\"</td>\n",
       "      <td>\"\"2\"\"</td>\n",
       "    </tr>\n",
       "    <tr>\n",
       "      <th>4</th>\n",
       "      <td>\"\"grup16\"\"</td>\n",
       "      <td>\"\"Female\"\"</td>\n",
       "      <td>\"\"Avid music listener\"\"</td>\n",
       "      <td>\"\"4\"\"</td>\n",
       "    </tr>\n",
       "  </tbody>\n",
       "</table>\n",
       "</div>"
      ],
      "text/plain": [
       "  Participant_ID                 Gender  \\\n",
       "0       \"\"test\"\"  \"\"Prefer not to say\"\"   \n",
       "1         \"\"11\"\"  \"\"Prefer not to say\"\"   \n",
       "2  \"\"andsti-01\"\"               \"\"Male\"\"   \n",
       "3  \"\"andsti-01\"\"               \"\"Male\"\"   \n",
       "4     \"\"grup16\"\"             \"\"Female\"\"   \n",
       "\n",
       "                     Personal description Comfortable with expressing emotions  \n",
       "0  \"\"Student/semi-professional musician\"\"                                \"\"3\"\"  \n",
       "1  \"\"Student/semi-professional musician\"\"                                \"\"0\"\"  \n",
       "2                 \"\"Avid music listener\"\"                                \"\"2\"\"  \n",
       "3                 \"\"Avid music listener\"\"                                \"\"2\"\"  \n",
       "4                 \"\"Avid music listener\"\"                                \"\"4\"\"  "
      ]
     },
     "execution_count": 84,
     "metadata": {},
     "output_type": "execute_result"
    }
   ],
   "source": [
    "pre_columns = pre.columns\n",
    "pre_data = pre[[pre_columns[1], pre_columns[3], pre_columns[4], pre_columns[5]]]\n",
    "pre_data.columns = ['Participant_ID', 'Gender', 'Personal description', 'Comfortable with expressing emotions']\n",
    "pre_data.head()"
   ]
  },
  {
   "cell_type": "code",
   "execution_count": 85,
   "metadata": {},
   "outputs": [
    {
     "data": {
      "text/html": [
       "<div>\n",
       "<style scoped>\n",
       "    .dataframe tbody tr th:only-of-type {\n",
       "        vertical-align: middle;\n",
       "    }\n",
       "\n",
       "    .dataframe tbody tr th {\n",
       "        vertical-align: top;\n",
       "    }\n",
       "\n",
       "    .dataframe thead th {\n",
       "        text-align: right;\n",
       "    }\n",
       "</style>\n",
       "<table border=\"1\" class=\"dataframe\">\n",
       "  <thead>\n",
       "    <tr style=\"text-align: right;\">\n",
       "      <th></th>\n",
       "      <th>Session_ID</th>\n",
       "      <th>Participant_ID</th>\n",
       "      <th>Excitement</th>\n",
       "    </tr>\n",
       "  </thead>\n",
       "  <tbody>\n",
       "    <tr>\n",
       "      <th>0</th>\n",
       "      <td>\"\"ILLIAC\"\"</td>\n",
       "      <td>\"\"andsti-01\"\"</td>\n",
       "      <td>\"\"3\"\"</td>\n",
       "    </tr>\n",
       "    <tr>\n",
       "      <th>1</th>\n",
       "      <td>\"\"CYSP\"\"</td>\n",
       "      <td>\"\"andsti-01\"\"</td>\n",
       "      <td>\"\"1\"\"</td>\n",
       "    </tr>\n",
       "    <tr>\n",
       "      <th>2</th>\n",
       "      <td>\"\"VOYAGER\"\"</td>\n",
       "      <td>\"\"andsti-01\"\"</td>\n",
       "      <td>\"\"1\"\"</td>\n",
       "    </tr>\n",
       "    <tr>\n",
       "      <th>3</th>\n",
       "      <td>\"\"ALICE\"\"</td>\n",
       "      <td>\"\"andsti-01\"\"</td>\n",
       "      <td>\"\"1\"\"</td>\n",
       "    </tr>\n",
       "    <tr>\n",
       "      <th>4</th>\n",
       "      <td>\"\"CYSP\"\"</td>\n",
       "      <td>\"\"grup16\"\"</td>\n",
       "      <td>\"\"2\"\"</td>\n",
       "    </tr>\n",
       "  </tbody>\n",
       "</table>\n",
       "</div>"
      ],
      "text/plain": [
       "    Session_ID Participant_ID Excitement\n",
       "0   \"\"ILLIAC\"\"  \"\"andsti-01\"\"      \"\"3\"\"\n",
       "1     \"\"CYSP\"\"  \"\"andsti-01\"\"      \"\"1\"\"\n",
       "2  \"\"VOYAGER\"\"  \"\"andsti-01\"\"      \"\"1\"\"\n",
       "3    \"\"ALICE\"\"  \"\"andsti-01\"\"      \"\"1\"\"\n",
       "4     \"\"CYSP\"\"     \"\"grup16\"\"      \"\"2\"\""
      ]
     },
     "execution_count": 85,
     "metadata": {},
     "output_type": "execute_result"
    }
   ],
   "source": [
    "during_columns = during.columns\n",
    "during_data = during[[during_columns[1], during_columns[2], during_columns[5]]]\n",
    "during_data.columns = ['Session_ID', 'Participant_ID', 'Excitement']\n",
    "during_data.head()"
   ]
  },
  {
   "cell_type": "code",
   "execution_count": 86,
   "metadata": {},
   "outputs": [
    {
     "data": {
      "text/html": [
       "<div>\n",
       "<style scoped>\n",
       "    .dataframe tbody tr th:only-of-type {\n",
       "        vertical-align: middle;\n",
       "    }\n",
       "\n",
       "    .dataframe tbody tr th {\n",
       "        vertical-align: top;\n",
       "    }\n",
       "\n",
       "    .dataframe thead th {\n",
       "        text-align: right;\n",
       "    }\n",
       "</style>\n",
       "<table border=\"1\" class=\"dataframe\">\n",
       "  <thead>\n",
       "    <tr style=\"text-align: right;\">\n",
       "      <th></th>\n",
       "      <th>Participant_ID</th>\n",
       "      <th>Control</th>\n",
       "      <th>Creative expression</th>\n",
       "    </tr>\n",
       "  </thead>\n",
       "  <tbody>\n",
       "    <tr>\n",
       "      <th>0</th>\n",
       "      <td>\"\"andsti-01\"\"</td>\n",
       "      <td>\"\"1\"\"</td>\n",
       "      <td>\"\"2\"\"</td>\n",
       "    </tr>\n",
       "    <tr>\n",
       "      <th>1</th>\n",
       "      <td>\"\"andsti-02\"\"</td>\n",
       "      <td>\"\"1\"\"</td>\n",
       "      <td>\"\"1\"\"</td>\n",
       "    </tr>\n",
       "    <tr>\n",
       "      <th>2</th>\n",
       "      <td>\"\"andsti-03\"\"</td>\n",
       "      <td>\"\"1\"\"</td>\n",
       "      <td>\"\"2\"\"</td>\n",
       "    </tr>\n",
       "    <tr>\n",
       "      <th>3</th>\n",
       "      <td>\"\"andsti-04\"\"</td>\n",
       "      <td>\"\"1\"\"</td>\n",
       "      <td>\"\"2\"\"</td>\n",
       "    </tr>\n",
       "    <tr>\n",
       "      <th>4</th>\n",
       "      <td>\"\"andsti-05\"\"</td>\n",
       "      <td>\"\"1\"\"</td>\n",
       "      <td>\"\"3\"\"</td>\n",
       "    </tr>\n",
       "  </tbody>\n",
       "</table>\n",
       "</div>"
      ],
      "text/plain": [
       "  Participant_ID Control Creative expression\n",
       "0  \"\"andsti-01\"\"   \"\"1\"\"               \"\"2\"\"\n",
       "1  \"\"andsti-02\"\"   \"\"1\"\"               \"\"1\"\"\n",
       "2  \"\"andsti-03\"\"   \"\"1\"\"               \"\"2\"\"\n",
       "3  \"\"andsti-04\"\"   \"\"1\"\"               \"\"2\"\"\n",
       "4  \"\"andsti-05\"\"   \"\"1\"\"               \"\"3\"\""
      ]
     },
     "execution_count": 86,
     "metadata": {},
     "output_type": "execute_result"
    }
   ],
   "source": [
    "post_columns = post.columns\n",
    "post_data = post[[post_columns[1], post_columns[3], post_columns[7]]]\n",
    "post_data.columns = ['Participant_ID', 'Control', 'Creative expression']\n",
    "post_data.head()"
   ]
  }
 ],
 "metadata": {
  "kernelspec": {
   "display_name": "Python 3",
   "language": "python",
   "name": "python3"
  },
  "language_info": {
   "codemirror_mode": {
    "name": "ipython",
    "version": 3
   },
   "file_extension": ".py",
   "mimetype": "text/x-python",
   "name": "python",
   "nbconvert_exporter": "python",
   "pygments_lexer": "ipython3",
   "version": "3.9.6"
  }
 },
 "nbformat": 4,
 "nbformat_minor": 2
}
